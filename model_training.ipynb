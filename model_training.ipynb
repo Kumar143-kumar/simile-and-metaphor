{
 "cells": [
  {
   "cell_type": "markdown",
   "id": "f589430b",
   "metadata": {},
   "source": [
    "Importing the libraries"
   ]
  },
  {
   "cell_type": "code",
   "execution_count": 27,
   "id": "62c81b09",
   "metadata": {},
   "outputs": [],
   "source": [
    "import pandas as pd\n",
    "import numpy as np\n",
    "import matplotlib.pyplot as plt\n",
    "import os\n",
    "import tensorflow as tf\n",
    "\n",
    "from sklearn.model_selection import train_test_split\n",
    "from sklearn.feature_extraction.text import TfidfVectorizer\n",
    "from sklearn.preprocessing import LabelEncoder\n",
    "from sklearn.linear_model import LogisticRegression\n",
    "from sklearn.metrics import classification_report\n",
    "\n",
    "# Suppress TensorFlow logging and Keras warnings for a cleaner output\n",
    "tf.get_logger().setLevel('ERROR')\n",
    "os.environ['TF_CPP_MIN_LOG_LEVEL'] = '3'\n",
    "\n",
    "from tensorflow.keras.models import Sequential\n",
    "from tensorflow.keras.layers import Dense, Dropout\n",
    "from tensorflow.keras.optimizers import Adam"
   ]
  },
  {
   "cell_type": "markdown",
   "id": "387982bc",
   "metadata": {},
   "source": [
    "Read the Dataset\n"
   ]
  },
  {
   "cell_type": "code",
   "execution_count": 28,
   "id": "1c619609",
   "metadata": {},
   "outputs": [],
   "source": [
    "df=pd.read_csv('Data.csv')"
   ]
  },
  {
   "cell_type": "markdown",
   "id": "2f34e704",
   "metadata": {},
   "source": [
    "Data Preparation"
   ]
  },
  {
   "cell_type": "code",
   "execution_count": 29,
   "id": "1ce07e5d",
   "metadata": {},
   "outputs": [
    {
     "name": "stdout",
     "output_type": "stream",
     "text": [
      "--- Initial Data Snapshot (Simulated Data) ---\n",
      "   Id                                  Sentence    Target\n",
      "0   1                  The classroom was a zoo.  Metaphor\n",
      "1   2       The stars were diamonds in the sky.  Metaphor\n",
      "2   3  Time is a thief that steals our moments.  Metaphor\n",
      "3   4        Life is a journey with many paths.  Metaphor\n",
      "4   5          Her mind was a maze of thoughts.  Metaphor\n",
      "------------------------------------------------------------\n"
     ]
    }
   ],
   "source": [
    "print(\"--- Initial Data Snapshot (Simulated Data) ---\")\n",
    "print(df.head())\n",
    "print(\"-\" * 60)"
   ]
  },
  {
   "cell_type": "markdown",
   "id": "e8cdabe1",
   "metadata": {},
   "source": [
    "Handling Missing Values"
   ]
  },
  {
   "cell_type": "code",
   "execution_count": 30,
   "id": "49ec4451",
   "metadata": {},
   "outputs": [
    {
     "name": "stdout",
     "output_type": "stream",
     "text": [
      "Checking for missing values:\n",
      "Id          0\n",
      "Sentence    0\n",
      "Target      0\n",
      "dtype: int64\n",
      "\n",
      "DataFrame size after dropping NaNs: 391\n"
     ]
    }
   ],
   "source": [
    "# --- 2. Data Preparation ---\n",
    "\n",
    "# a) Handling missing values\n",
    "print(\"Checking for missing values:\")\n",
    "print(df.isnull().sum())\n",
    "# Drop rows where Sentence or Target might be missing\n",
    "df.dropna(subset=['Sentence', 'Target'], inplace=True)\n",
    "print(f\"\\nDataFrame size after dropping NaNs: {len(df)}\")"
   ]
  },
  {
   "cell_type": "markdown",
   "id": "9a01057c",
   "metadata": {},
   "source": [
    "Handling categorical data"
   ]
  },
  {
   "cell_type": "code",
   "execution_count": 31,
   "id": "45a6fe7c",
   "metadata": {},
   "outputs": [],
   "source": [
    "# b) Handling categorical data (Target column) using LabelEncoder\n",
    "le = LabelEncoder()\n",
    "df['Target_Encoded'] = le.fit_transform(df['Target'])"
   ]
  },
  {
   "cell_type": "code",
   "execution_count": 32,
   "id": "9ce6d192",
   "metadata": {},
   "outputs": [
    {
     "name": "stdout",
     "output_type": "stream",
     "text": [
      "\n",
      "Target Mapping (LabelEncoder): {'Metaphor': 0, 'Simile': 1}\n"
     ]
    }
   ],
   "source": [
    "# Determine the mapping: Simile (1) and Metaphor (0)\n",
    "target_names = le.classes_\n",
    "target_map = {name: le.transform([name])[0] for name in target_names}\n",
    "print(f\"\\nTarget Mapping (LabelEncoder): {target_map}\")\n",
    "# For binary classification, Simile is likely mapped to 1 (positive class) and Metaphor to 0."
   ]
  },
  {
   "cell_type": "code",
   "execution_count": 33,
   "id": "61dfcadb",
   "metadata": {},
   "outputs": [
    {
     "name": "stdout",
     "output_type": "stream",
     "text": [
      "\n",
      "TF-IDF Matrix Shape (X): (391, 480)\n"
     ]
    }
   ],
   "source": [
    "# --- 3. TF-IDF Vectorization ---\n",
    "tfidf = TfidfVectorizer(max_features=5000, stop_words='english')\n",
    "X = tfidf.fit_transform(df['Sentence']).toarray()\n",
    "y = df['Target_Encoded'].values\n",
    "\n",
    "print(f\"\\nTF-IDF Matrix Shape (X): {X.shape}\")"
   ]
  },
  {
   "cell_type": "markdown",
   "id": "93af0ce9",
   "metadata": {},
   "source": [
    "Splitting data into train and test"
   ]
  },
  {
   "cell_type": "code",
   "execution_count": 34,
   "id": "dfbe6c5e",
   "metadata": {},
   "outputs": [],
   "source": [
    "# --- 4. Train-Test Split ---\n",
    "X_train, X_test, y_train, y_test = train_test_split(\n",
    "    X, y, test_size=0.2, random_state=42, stratify=y\n",
    ")"
   ]
  },
  {
   "cell_type": "code",
   "execution_count": 35,
   "id": "d468ff4b",
   "metadata": {},
   "outputs": [
    {
     "name": "stdout",
     "output_type": "stream",
     "text": [
      "X_train shape: (312, 480)\n",
      "X_test shape: (79, 480)\n",
      "------------------------------------------------------------\n"
     ]
    }
   ],
   "source": [
    "print(f\"X_train shape: {X_train.shape}\")\n",
    "print(f\"X_test shape: {X_test.shape}\")\n",
    "print(\"-\" * 60)"
   ]
  },
  {
   "cell_type": "markdown",
   "id": "144a2112",
   "metadata": {},
   "source": [
    "Logistic regression"
   ]
  },
  {
   "cell_type": "code",
   "execution_count": 36,
   "id": "6aa45762",
   "metadata": {},
   "outputs": [
    {
     "name": "stdout",
     "output_type": "stream",
     "text": [
      "--- Training Logistic Regression Model ---\n"
     ]
    },
    {
     "data": {
      "text/html": [
       "<style>#sk-container-id-2 {color: black;}#sk-container-id-2 pre{padding: 0;}#sk-container-id-2 div.sk-toggleable {background-color: white;}#sk-container-id-2 label.sk-toggleable__label {cursor: pointer;display: block;width: 100%;margin-bottom: 0;padding: 0.3em;box-sizing: border-box;text-align: center;}#sk-container-id-2 label.sk-toggleable__label-arrow:before {content: \"▸\";float: left;margin-right: 0.25em;color: #696969;}#sk-container-id-2 label.sk-toggleable__label-arrow:hover:before {color: black;}#sk-container-id-2 div.sk-estimator:hover label.sk-toggleable__label-arrow:before {color: black;}#sk-container-id-2 div.sk-toggleable__content {max-height: 0;max-width: 0;overflow: hidden;text-align: left;background-color: #f0f8ff;}#sk-container-id-2 div.sk-toggleable__content pre {margin: 0.2em;color: black;border-radius: 0.25em;background-color: #f0f8ff;}#sk-container-id-2 input.sk-toggleable__control:checked~div.sk-toggleable__content {max-height: 200px;max-width: 100%;overflow: auto;}#sk-container-id-2 input.sk-toggleable__control:checked~label.sk-toggleable__label-arrow:before {content: \"▾\";}#sk-container-id-2 div.sk-estimator input.sk-toggleable__control:checked~label.sk-toggleable__label {background-color: #d4ebff;}#sk-container-id-2 div.sk-label input.sk-toggleable__control:checked~label.sk-toggleable__label {background-color: #d4ebff;}#sk-container-id-2 input.sk-hidden--visually {border: 0;clip: rect(1px 1px 1px 1px);clip: rect(1px, 1px, 1px, 1px);height: 1px;margin: -1px;overflow: hidden;padding: 0;position: absolute;width: 1px;}#sk-container-id-2 div.sk-estimator {font-family: monospace;background-color: #f0f8ff;border: 1px dotted black;border-radius: 0.25em;box-sizing: border-box;margin-bottom: 0.5em;}#sk-container-id-2 div.sk-estimator:hover {background-color: #d4ebff;}#sk-container-id-2 div.sk-parallel-item::after {content: \"\";width: 100%;border-bottom: 1px solid gray;flex-grow: 1;}#sk-container-id-2 div.sk-label:hover label.sk-toggleable__label {background-color: #d4ebff;}#sk-container-id-2 div.sk-serial::before {content: \"\";position: absolute;border-left: 1px solid gray;box-sizing: border-box;top: 0;bottom: 0;left: 50%;z-index: 0;}#sk-container-id-2 div.sk-serial {display: flex;flex-direction: column;align-items: center;background-color: white;padding-right: 0.2em;padding-left: 0.2em;position: relative;}#sk-container-id-2 div.sk-item {position: relative;z-index: 1;}#sk-container-id-2 div.sk-parallel {display: flex;align-items: stretch;justify-content: center;background-color: white;position: relative;}#sk-container-id-2 div.sk-item::before, #sk-container-id-2 div.sk-parallel-item::before {content: \"\";position: absolute;border-left: 1px solid gray;box-sizing: border-box;top: 0;bottom: 0;left: 50%;z-index: -1;}#sk-container-id-2 div.sk-parallel-item {display: flex;flex-direction: column;z-index: 1;position: relative;background-color: white;}#sk-container-id-2 div.sk-parallel-item:first-child::after {align-self: flex-end;width: 50%;}#sk-container-id-2 div.sk-parallel-item:last-child::after {align-self: flex-start;width: 50%;}#sk-container-id-2 div.sk-parallel-item:only-child::after {width: 0;}#sk-container-id-2 div.sk-dashed-wrapped {border: 1px dashed gray;margin: 0 0.4em 0.5em 0.4em;box-sizing: border-box;padding-bottom: 0.4em;background-color: white;}#sk-container-id-2 div.sk-label label {font-family: monospace;font-weight: bold;display: inline-block;line-height: 1.2em;}#sk-container-id-2 div.sk-label-container {text-align: center;}#sk-container-id-2 div.sk-container {/* jupyter's `normalize.less` sets `[hidden] { display: none; }` but bootstrap.min.css set `[hidden] { display: none !important; }` so we also need the `!important` here to be able to override the default hidden behavior on the sphinx rendered scikit-learn.org. See: https://github.com/scikit-learn/scikit-learn/issues/21755 */display: inline-block !important;position: relative;}#sk-container-id-2 div.sk-text-repr-fallback {display: none;}</style><div id=\"sk-container-id-2\" class=\"sk-top-container\"><div class=\"sk-text-repr-fallback\"><pre>LogisticRegression(max_iter=1000)</pre><b>In a Jupyter environment, please rerun this cell to show the HTML representation or trust the notebook. <br />On GitHub, the HTML representation is unable to render, please try loading this page with nbviewer.org.</b></div><div class=\"sk-container\" hidden><div class=\"sk-item\"><div class=\"sk-estimator sk-toggleable\"><input class=\"sk-toggleable__control sk-hidden--visually\" id=\"sk-estimator-id-2\" type=\"checkbox\" checked><label for=\"sk-estimator-id-2\" class=\"sk-toggleable__label sk-toggleable__label-arrow\">LogisticRegression</label><div class=\"sk-toggleable__content\"><pre>LogisticRegression(max_iter=1000)</pre></div></div></div></div></div>"
      ],
      "text/plain": [
       "LogisticRegression(max_iter=1000)"
      ]
     },
     "execution_count": 36,
     "metadata": {},
     "output_type": "execute_result"
    }
   ],
   "source": [
    "# --- 5. Logistic Regression (Baseline) ---\n",
    "print(\"--- Training Logistic Regression Model ---\")\n",
    "lr_model = LogisticRegression(max_iter=1000)\n",
    "lr_model.fit(X_train, y_train)"
   ]
  },
  {
   "cell_type": "code",
   "execution_count": 37,
   "id": "0b04d174",
   "metadata": {},
   "outputs": [
    {
     "name": "stdout",
     "output_type": "stream",
     "text": [
      "\n",
      "Logistic Regression Classification Report on Test Set:\n",
      "              precision    recall  f1-score   support\n",
      "\n",
      "    Metaphor       0.75      0.28      0.41        32\n",
      "      Simile       0.66      0.94      0.77        47\n",
      "\n",
      "    accuracy                           0.67        79\n",
      "   macro avg       0.70      0.61      0.59        79\n",
      "weighted avg       0.69      0.67      0.62        79\n",
      "\n",
      "------------------------------------------------------------\n"
     ]
    }
   ],
   "source": [
    "# Evaluation\n",
    "lr_pred = lr_model.predict(X_test)\n",
    "print(\"\\nLogistic Regression Classification Report on Test Set:\")\n",
    "# target_names is correctly ['Metaphor', 'Simile'] based on alphabetical order and LabelEncoder\n",
    "print(classification_report(y_test, lr_pred, target_names=target_names, zero_division=0))\n",
    "print(\"-\" * 60)"
   ]
  },
  {
   "cell_type": "markdown",
   "id": "fc54d67b",
   "metadata": {},
   "source": [
    " ANN(artificial neural network)"
   ]
  },
  {
   "cell_type": "code",
   "execution_count": 38,
   "id": "58533ab7",
   "metadata": {},
   "outputs": [],
   "source": [
    "# --- 6. Artificial Neural Network (ANN) ---\n",
    "\n",
    "# Build the Neural Network Model\n",
    "# NOTE: The requested Dropout(6.5) was corrected to Dropout(0.5) as dropout rates must be between 0 and 1.\n",
    "input_dim = X_train.shape[1]\n",
    "\n",
    "model = Sequential([\n",
    "    # Input Layer (implicitly defined by input_shape in the first Dense layer)\n",
    "    Dense(512, activation='relu', input_shape=(input_dim,)),\n",
    "    Dropout(0.5), # Regularization to prevent overfitting\n",
    "    Dense(256, activation='relu'),\n",
    "    Dropout(0.5), # Regularization to prevent overfitting\n",
    "    # Output layer for binary classification (Simile/Metaphor)\n",
    "    Dense(1, activation='sigmoid')\n",
    "])"
   ]
  },
  {
   "cell_type": "code",
   "execution_count": 39,
   "id": "09ba3240",
   "metadata": {},
   "outputs": [],
   "source": [
    "# Compile the model\n",
    "model.compile(\n",
    "    optimizer=Adam(learning_rate=1e-4),\n",
    "    loss='binary_crossentropy',\n",
    "    metrics=['accuracy']\n",
    ")"
   ]
  },
  {
   "cell_type": "code",
   "execution_count": 40,
   "id": "9436e5e3",
   "metadata": {},
   "outputs": [
    {
     "name": "stdout",
     "output_type": "stream",
     "text": [
      "--- ANN Model Summary ---\n",
      "Model: \"sequential_1\"\n",
      "_________________________________________________________________\n",
      " Layer (type)                Output Shape              Param #   \n",
      "=================================================================\n",
      " dense_3 (Dense)             (None, 512)               246272    \n",
      "                                                                 \n",
      " dropout_2 (Dropout)         (None, 512)               0         \n",
      "                                                                 \n",
      " dense_4 (Dense)             (None, 256)               131328    \n",
      "                                                                 \n",
      " dropout_3 (Dropout)         (None, 256)               0         \n",
      "                                                                 \n",
      " dense_5 (Dense)             (None, 1)                 257       \n",
      "                                                                 \n",
      "=================================================================\n",
      "Total params: 377857 (1.44 MB)\n",
      "Trainable params: 377857 (1.44 MB)\n",
      "Non-trainable params: 0 (0.00 Byte)\n",
      "_________________________________________________________________\n",
      "------------------------------------------------------------\n"
     ]
    }
   ],
   "source": [
    "# Print model summary\n",
    "print(\"--- ANN Model Summary ---\")\n",
    "model.summary()\n",
    "print(\"-\" * 60)"
   ]
  },
  {
   "cell_type": "code",
   "execution_count": 41,
   "id": "f7445fd4",
   "metadata": {},
   "outputs": [
    {
     "name": "stdout",
     "output_type": "stream",
     "text": [
      "\n",
      "--- Training ANN Model (Epochs=75, Batch Size=64, Verbose=2) ---\n",
      "Epoch 1/150\n",
      "5/5 - 1s - loss: 0.7013 - accuracy: 0.4231 - val_loss: 0.6947 - val_accuracy: 0.4304 - 522ms/epoch - 104ms/step\n",
      "Epoch 2/150\n",
      "5/5 - 0s - loss: 0.6989 - accuracy: 0.4391 - val_loss: 0.6925 - val_accuracy: 0.5696 - 47ms/epoch - 9ms/step\n",
      "Epoch 3/150\n",
      "5/5 - 0s - loss: 0.6922 - accuracy: 0.4808 - val_loss: 0.6904 - val_accuracy: 0.5696 - 63ms/epoch - 13ms/step\n",
      "Epoch 4/150\n",
      "5/5 - 0s - loss: 0.6933 - accuracy: 0.4936 - val_loss: 0.6884 - val_accuracy: 0.6076 - 47ms/epoch - 9ms/step\n",
      "Epoch 5/150\n",
      "5/5 - 0s - loss: 0.6875 - accuracy: 0.5994 - val_loss: 0.6866 - val_accuracy: 0.6076 - 36ms/epoch - 7ms/step\n",
      "Epoch 6/150\n",
      "5/5 - 0s - loss: 0.6836 - accuracy: 0.6346 - val_loss: 0.6849 - val_accuracy: 0.5949 - 55ms/epoch - 11ms/step\n",
      "Epoch 7/150\n",
      "5/5 - 0s - loss: 0.6790 - accuracy: 0.6506 - val_loss: 0.6833 - val_accuracy: 0.5949 - 37ms/epoch - 7ms/step\n",
      "Epoch 8/150\n",
      "5/5 - 0s - loss: 0.6829 - accuracy: 0.5833 - val_loss: 0.6818 - val_accuracy: 0.5949 - 54ms/epoch - 11ms/step\n",
      "Epoch 9/150\n",
      "5/5 - 0s - loss: 0.6812 - accuracy: 0.6058 - val_loss: 0.6803 - val_accuracy: 0.5949 - 46ms/epoch - 9ms/step\n",
      "Epoch 10/150\n",
      "5/5 - 0s - loss: 0.6763 - accuracy: 0.5994 - val_loss: 0.6789 - val_accuracy: 0.5949 - 56ms/epoch - 11ms/step\n",
      "Epoch 11/150\n",
      "5/5 - 0s - loss: 0.6742 - accuracy: 0.5994 - val_loss: 0.6777 - val_accuracy: 0.5949 - 53ms/epoch - 11ms/step\n",
      "Epoch 12/150\n",
      "5/5 - 0s - loss: 0.6724 - accuracy: 0.6026 - val_loss: 0.6766 - val_accuracy: 0.5949 - 46ms/epoch - 9ms/step\n",
      "Epoch 13/150\n",
      "5/5 - 0s - loss: 0.6677 - accuracy: 0.6058 - val_loss: 0.6755 - val_accuracy: 0.5949 - 51ms/epoch - 10ms/step\n",
      "Epoch 14/150\n",
      "5/5 - 0s - loss: 0.6721 - accuracy: 0.5929 - val_loss: 0.6744 - val_accuracy: 0.5949 - 54ms/epoch - 11ms/step\n",
      "Epoch 15/150\n",
      "5/5 - 0s - loss: 0.6659 - accuracy: 0.5962 - val_loss: 0.6733 - val_accuracy: 0.5949 - 39ms/epoch - 8ms/step\n",
      "Epoch 16/150\n",
      "5/5 - 0s - loss: 0.6618 - accuracy: 0.5929 - val_loss: 0.6724 - val_accuracy: 0.5949 - 49ms/epoch - 10ms/step\n",
      "Epoch 17/150\n",
      "5/5 - 0s - loss: 0.6619 - accuracy: 0.5929 - val_loss: 0.6714 - val_accuracy: 0.5949 - 58ms/epoch - 12ms/step\n",
      "Epoch 18/150\n",
      "5/5 - 0s - loss: 0.6601 - accuracy: 0.5897 - val_loss: 0.6704 - val_accuracy: 0.5949 - 44ms/epoch - 9ms/step\n",
      "Epoch 19/150\n",
      "5/5 - 0s - loss: 0.6602 - accuracy: 0.5897 - val_loss: 0.6694 - val_accuracy: 0.5949 - 50ms/epoch - 10ms/step\n",
      "Epoch 20/150\n",
      "5/5 - 0s - loss: 0.6535 - accuracy: 0.5929 - val_loss: 0.6684 - val_accuracy: 0.5949 - 49ms/epoch - 10ms/step\n",
      "Epoch 21/150\n",
      "5/5 - 0s - loss: 0.6498 - accuracy: 0.5929 - val_loss: 0.6675 - val_accuracy: 0.5949 - 49ms/epoch - 10ms/step\n",
      "Epoch 22/150\n",
      "5/5 - 0s - loss: 0.6507 - accuracy: 0.5929 - val_loss: 0.6665 - val_accuracy: 0.5949 - 53ms/epoch - 11ms/step\n",
      "Epoch 23/150\n",
      "5/5 - 0s - loss: 0.6481 - accuracy: 0.5929 - val_loss: 0.6655 - val_accuracy: 0.5949 - 49ms/epoch - 10ms/step\n",
      "Epoch 24/150\n",
      "5/5 - 0s - loss: 0.6487 - accuracy: 0.5897 - val_loss: 0.6645 - val_accuracy: 0.5949 - 44ms/epoch - 9ms/step\n",
      "Epoch 25/150\n",
      "5/5 - 0s - loss: 0.6426 - accuracy: 0.5897 - val_loss: 0.6634 - val_accuracy: 0.5949 - 38ms/epoch - 8ms/step\n",
      "Epoch 26/150\n",
      "5/5 - 0s - loss: 0.6419 - accuracy: 0.5929 - val_loss: 0.6623 - val_accuracy: 0.5949 - 47ms/epoch - 9ms/step\n",
      "Epoch 27/150\n",
      "5/5 - 0s - loss: 0.6414 - accuracy: 0.5929 - val_loss: 0.6611 - val_accuracy: 0.5949 - 46ms/epoch - 9ms/step\n",
      "Epoch 28/150\n",
      "5/5 - 0s - loss: 0.6380 - accuracy: 0.5929 - val_loss: 0.6600 - val_accuracy: 0.5949 - 49ms/epoch - 10ms/step\n",
      "Epoch 29/150\n",
      "5/5 - 0s - loss: 0.6299 - accuracy: 0.5962 - val_loss: 0.6589 - val_accuracy: 0.5949 - 39ms/epoch - 8ms/step\n",
      "Epoch 30/150\n",
      "5/5 - 0s - loss: 0.6243 - accuracy: 0.5929 - val_loss: 0.6577 - val_accuracy: 0.5949 - 51ms/epoch - 10ms/step\n",
      "Epoch 31/150\n",
      "5/5 - 0s - loss: 0.6290 - accuracy: 0.5897 - val_loss: 0.6564 - val_accuracy: 0.5949 - 46ms/epoch - 9ms/step\n",
      "Epoch 32/150\n",
      "5/5 - 0s - loss: 0.6168 - accuracy: 0.5994 - val_loss: 0.6551 - val_accuracy: 0.5949 - 51ms/epoch - 10ms/step\n",
      "Epoch 33/150\n",
      "5/5 - 0s - loss: 0.6175 - accuracy: 0.5897 - val_loss: 0.6538 - val_accuracy: 0.5949 - 45ms/epoch - 9ms/step\n",
      "Epoch 34/150\n",
      "5/5 - 0s - loss: 0.6126 - accuracy: 0.6026 - val_loss: 0.6524 - val_accuracy: 0.5949 - 43ms/epoch - 9ms/step\n",
      "Epoch 35/150\n",
      "5/5 - 0s - loss: 0.6106 - accuracy: 0.6026 - val_loss: 0.6510 - val_accuracy: 0.5949 - 39ms/epoch - 8ms/step\n",
      "Epoch 36/150\n",
      "5/5 - 0s - loss: 0.6085 - accuracy: 0.6090 - val_loss: 0.6494 - val_accuracy: 0.5949 - 49ms/epoch - 10ms/step\n",
      "Epoch 37/150\n",
      "5/5 - 0s - loss: 0.6011 - accuracy: 0.6186 - val_loss: 0.6477 - val_accuracy: 0.5949 - 49ms/epoch - 10ms/step\n",
      "Epoch 38/150\n",
      "5/5 - 0s - loss: 0.5968 - accuracy: 0.6026 - val_loss: 0.6460 - val_accuracy: 0.5949 - 45ms/epoch - 9ms/step\n",
      "Epoch 39/150\n",
      "5/5 - 0s - loss: 0.5930 - accuracy: 0.6154 - val_loss: 0.6442 - val_accuracy: 0.6076 - 35ms/epoch - 7ms/step\n",
      "Epoch 40/150\n",
      "5/5 - 0s - loss: 0.5860 - accuracy: 0.6346 - val_loss: 0.6423 - val_accuracy: 0.6076 - 38ms/epoch - 8ms/step\n",
      "Epoch 41/150\n",
      "5/5 - 0s - loss: 0.5820 - accuracy: 0.6250 - val_loss: 0.6402 - val_accuracy: 0.6076 - 45ms/epoch - 9ms/step\n",
      "Epoch 42/150\n",
      "5/5 - 0s - loss: 0.5787 - accuracy: 0.6346 - val_loss: 0.6379 - val_accuracy: 0.6076 - 54ms/epoch - 11ms/step\n",
      "Epoch 43/150\n",
      "5/5 - 0s - loss: 0.5670 - accuracy: 0.6667 - val_loss: 0.6356 - val_accuracy: 0.6076 - 48ms/epoch - 10ms/step\n",
      "Epoch 44/150\n",
      "5/5 - 0s - loss: 0.5650 - accuracy: 0.6571 - val_loss: 0.6333 - val_accuracy: 0.6076 - 44ms/epoch - 9ms/step\n",
      "Epoch 45/150\n",
      "5/5 - 0s - loss: 0.5518 - accuracy: 0.7019 - val_loss: 0.6309 - val_accuracy: 0.6076 - 43ms/epoch - 9ms/step\n",
      "Epoch 46/150\n",
      "5/5 - 0s - loss: 0.5491 - accuracy: 0.7115 - val_loss: 0.6283 - val_accuracy: 0.6076 - 41ms/epoch - 8ms/step\n",
      "Epoch 47/150\n",
      "5/5 - 0s - loss: 0.5429 - accuracy: 0.6891 - val_loss: 0.6256 - val_accuracy: 0.6076 - 59ms/epoch - 12ms/step\n",
      "Epoch 48/150\n",
      "5/5 - 0s - loss: 0.5316 - accuracy: 0.7340 - val_loss: 0.6226 - val_accuracy: 0.6076 - 47ms/epoch - 9ms/step\n",
      "Epoch 49/150\n",
      "5/5 - 0s - loss: 0.5297 - accuracy: 0.7468 - val_loss: 0.6195 - val_accuracy: 0.6076 - 46ms/epoch - 9ms/step\n",
      "Epoch 50/150\n",
      "5/5 - 0s - loss: 0.5154 - accuracy: 0.7692 - val_loss: 0.6163 - val_accuracy: 0.6203 - 42ms/epoch - 8ms/step\n",
      "Epoch 51/150\n",
      "5/5 - 0s - loss: 0.5100 - accuracy: 0.7917 - val_loss: 0.6130 - val_accuracy: 0.6329 - 41ms/epoch - 8ms/step\n",
      "Epoch 52/150\n",
      "5/5 - 0s - loss: 0.4964 - accuracy: 0.8462 - val_loss: 0.6094 - val_accuracy: 0.6329 - 50ms/epoch - 10ms/step\n",
      "Epoch 53/150\n",
      "5/5 - 0s - loss: 0.4860 - accuracy: 0.8333 - val_loss: 0.6056 - val_accuracy: 0.6582 - 50ms/epoch - 10ms/step\n",
      "Epoch 54/150\n",
      "5/5 - 0s - loss: 0.4772 - accuracy: 0.8526 - val_loss: 0.6019 - val_accuracy: 0.6709 - 50ms/epoch - 10ms/step\n",
      "Epoch 55/150\n",
      "5/5 - 0s - loss: 0.4700 - accuracy: 0.8686 - val_loss: 0.5979 - val_accuracy: 0.6709 - 50ms/epoch - 10ms/step\n",
      "Epoch 56/150\n",
      "5/5 - 0s - loss: 0.4663 - accuracy: 0.8654 - val_loss: 0.5939 - val_accuracy: 0.6709 - 45ms/epoch - 9ms/step\n",
      "Epoch 57/150\n",
      "5/5 - 0s - loss: 0.4468 - accuracy: 0.8910 - val_loss: 0.5899 - val_accuracy: 0.6709 - 36ms/epoch - 7ms/step\n",
      "Epoch 58/150\n",
      "5/5 - 0s - loss: 0.4368 - accuracy: 0.8878 - val_loss: 0.5859 - val_accuracy: 0.6835 - 49ms/epoch - 10ms/step\n",
      "Epoch 59/150\n",
      "5/5 - 0s - loss: 0.4226 - accuracy: 0.9295 - val_loss: 0.5815 - val_accuracy: 0.6709 - 48ms/epoch - 10ms/step\n",
      "Epoch 60/150\n",
      "5/5 - 0s - loss: 0.4113 - accuracy: 0.9231 - val_loss: 0.5771 - val_accuracy: 0.6962 - 33ms/epoch - 7ms/step\n",
      "Epoch 61/150\n",
      "5/5 - 0s - loss: 0.4041 - accuracy: 0.9295 - val_loss: 0.5726 - val_accuracy: 0.7215 - 32ms/epoch - 6ms/step\n",
      "Epoch 62/150\n",
      "5/5 - 0s - loss: 0.3809 - accuracy: 0.9615 - val_loss: 0.5681 - val_accuracy: 0.7215 - 48ms/epoch - 10ms/step\n",
      "Epoch 63/150\n",
      "5/5 - 0s - loss: 0.3751 - accuracy: 0.9391 - val_loss: 0.5637 - val_accuracy: 0.7342 - 40ms/epoch - 8ms/step\n",
      "Epoch 64/150\n",
      "5/5 - 0s - loss: 0.3702 - accuracy: 0.9583 - val_loss: 0.5592 - val_accuracy: 0.7342 - 43ms/epoch - 9ms/step\n",
      "Epoch 65/150\n",
      "5/5 - 0s - loss: 0.3515 - accuracy: 0.9551 - val_loss: 0.5547 - val_accuracy: 0.7342 - 42ms/epoch - 8ms/step\n",
      "Epoch 66/150\n",
      "5/5 - 0s - loss: 0.3445 - accuracy: 0.9647 - val_loss: 0.5504 - val_accuracy: 0.7342 - 41ms/epoch - 8ms/step\n",
      "Epoch 67/150\n",
      "5/5 - 0s - loss: 0.3311 - accuracy: 0.9455 - val_loss: 0.5462 - val_accuracy: 0.7342 - 39ms/epoch - 8ms/step\n",
      "Epoch 68/150\n",
      "5/5 - 0s - loss: 0.3105 - accuracy: 0.9679 - val_loss: 0.5424 - val_accuracy: 0.7342 - 39ms/epoch - 8ms/step\n",
      "Epoch 69/150\n",
      "5/5 - 0s - loss: 0.3081 - accuracy: 0.9647 - val_loss: 0.5387 - val_accuracy: 0.7342 - 40ms/epoch - 8ms/step\n",
      "Epoch 70/150\n",
      "5/5 - 0s - loss: 0.2965 - accuracy: 0.9744 - val_loss: 0.5348 - val_accuracy: 0.7342 - 40ms/epoch - 8ms/step\n",
      "Epoch 71/150\n",
      "5/5 - 0s - loss: 0.2855 - accuracy: 0.9679 - val_loss: 0.5314 - val_accuracy: 0.7468 - 64ms/epoch - 13ms/step\n",
      "Epoch 72/150\n",
      "5/5 - 0s - loss: 0.2684 - accuracy: 0.9744 - val_loss: 0.5279 - val_accuracy: 0.7468 - 44ms/epoch - 9ms/step\n",
      "Epoch 73/150\n",
      "5/5 - 0s - loss: 0.2615 - accuracy: 0.9744 - val_loss: 0.5248 - val_accuracy: 0.7468 - 39ms/epoch - 8ms/step\n",
      "Epoch 74/150\n",
      "5/5 - 0s - loss: 0.2578 - accuracy: 0.9808 - val_loss: 0.5214 - val_accuracy: 0.7595 - 34ms/epoch - 7ms/step\n",
      "Epoch 75/150\n",
      "5/5 - 0s - loss: 0.2512 - accuracy: 0.9808 - val_loss: 0.5183 - val_accuracy: 0.7595 - 47ms/epoch - 9ms/step\n",
      "Epoch 76/150\n",
      "5/5 - 0s - loss: 0.2315 - accuracy: 0.9744 - val_loss: 0.5156 - val_accuracy: 0.7595 - 38ms/epoch - 8ms/step\n",
      "Epoch 77/150\n",
      "5/5 - 0s - loss: 0.2243 - accuracy: 0.9776 - val_loss: 0.5131 - val_accuracy: 0.7595 - 30ms/epoch - 6ms/step\n",
      "Epoch 78/150\n",
      "5/5 - 0s - loss: 0.2060 - accuracy: 0.9936 - val_loss: 0.5111 - val_accuracy: 0.7722 - 41ms/epoch - 8ms/step\n",
      "Epoch 79/150\n",
      "5/5 - 0s - loss: 0.2057 - accuracy: 0.9808 - val_loss: 0.5091 - val_accuracy: 0.7722 - 24ms/epoch - 5ms/step\n",
      "Epoch 80/150\n",
      "5/5 - 0s - loss: 0.1931 - accuracy: 0.9936 - val_loss: 0.5070 - val_accuracy: 0.7722 - 41ms/epoch - 8ms/step\n",
      "Epoch 81/150\n",
      "5/5 - 0s - loss: 0.1867 - accuracy: 0.9872 - val_loss: 0.5053 - val_accuracy: 0.7468 - 37ms/epoch - 7ms/step\n",
      "Epoch 82/150\n",
      "5/5 - 0s - loss: 0.1794 - accuracy: 0.9840 - val_loss: 0.5040 - val_accuracy: 0.7468 - 41ms/epoch - 8ms/step\n",
      "Epoch 83/150\n",
      "5/5 - 0s - loss: 0.1732 - accuracy: 0.9904 - val_loss: 0.5028 - val_accuracy: 0.7468 - 41ms/epoch - 8ms/step\n",
      "Epoch 84/150\n",
      "5/5 - 0s - loss: 0.1663 - accuracy: 0.9840 - val_loss: 0.5015 - val_accuracy: 0.7342 - 39ms/epoch - 8ms/step\n",
      "Epoch 85/150\n",
      "5/5 - 0s - loss: 0.1608 - accuracy: 0.9872 - val_loss: 0.5003 - val_accuracy: 0.7342 - 27ms/epoch - 5ms/step\n",
      "Epoch 86/150\n",
      "5/5 - 0s - loss: 0.1449 - accuracy: 0.9904 - val_loss: 0.4993 - val_accuracy: 0.7468 - 37ms/epoch - 7ms/step\n",
      "Epoch 87/150\n",
      "5/5 - 0s - loss: 0.1373 - accuracy: 0.9904 - val_loss: 0.4985 - val_accuracy: 0.7468 - 33ms/epoch - 7ms/step\n",
      "Epoch 88/150\n",
      "5/5 - 0s - loss: 0.1411 - accuracy: 0.9936 - val_loss: 0.4979 - val_accuracy: 0.7468 - 51ms/epoch - 10ms/step\n",
      "Epoch 89/150\n",
      "5/5 - 0s - loss: 0.1335 - accuracy: 0.9936 - val_loss: 0.4974 - val_accuracy: 0.7468 - 32ms/epoch - 6ms/step\n",
      "Epoch 90/150\n",
      "5/5 - 0s - loss: 0.1251 - accuracy: 0.9936 - val_loss: 0.4971 - val_accuracy: 0.7468 - 50ms/epoch - 10ms/step\n",
      "Epoch 91/150\n",
      "5/5 - 0s - loss: 0.1326 - accuracy: 0.9872 - val_loss: 0.4968 - val_accuracy: 0.7468 - 41ms/epoch - 8ms/step\n",
      "Epoch 92/150\n",
      "5/5 - 0s - loss: 0.1192 - accuracy: 0.9968 - val_loss: 0.4964 - val_accuracy: 0.7468 - 39ms/epoch - 8ms/step\n",
      "Epoch 93/150\n",
      "5/5 - 0s - loss: 0.1165 - accuracy: 0.9872 - val_loss: 0.4960 - val_accuracy: 0.7468 - 41ms/epoch - 8ms/step\n",
      "Epoch 94/150\n",
      "5/5 - 0s - loss: 0.1055 - accuracy: 0.9936 - val_loss: 0.4960 - val_accuracy: 0.7468 - 40ms/epoch - 8ms/step\n",
      "Epoch 95/150\n",
      "5/5 - 0s - loss: 0.1034 - accuracy: 0.9968 - val_loss: 0.4958 - val_accuracy: 0.7468 - 40ms/epoch - 8ms/step\n",
      "Epoch 96/150\n",
      "5/5 - 0s - loss: 0.0946 - accuracy: 1.0000 - val_loss: 0.4959 - val_accuracy: 0.7468 - 37ms/epoch - 7ms/step\n",
      "Epoch 97/150\n",
      "5/5 - 0s - loss: 0.1083 - accuracy: 0.9872 - val_loss: 0.4962 - val_accuracy: 0.7342 - 41ms/epoch - 8ms/step\n",
      "Epoch 98/150\n",
      "5/5 - 0s - loss: 0.0931 - accuracy: 0.9936 - val_loss: 0.4968 - val_accuracy: 0.7342 - 42ms/epoch - 8ms/step\n",
      "Epoch 99/150\n",
      "5/5 - 0s - loss: 0.0890 - accuracy: 0.9936 - val_loss: 0.4975 - val_accuracy: 0.7342 - 34ms/epoch - 7ms/step\n",
      "Epoch 100/150\n",
      "5/5 - 0s - loss: 0.0910 - accuracy: 0.9936 - val_loss: 0.4983 - val_accuracy: 0.7342 - 35ms/epoch - 7ms/step\n",
      "Epoch 101/150\n",
      "5/5 - 0s - loss: 0.0848 - accuracy: 0.9968 - val_loss: 0.4987 - val_accuracy: 0.7342 - 49ms/epoch - 10ms/step\n",
      "Epoch 102/150\n",
      "5/5 - 0s - loss: 0.0867 - accuracy: 0.9936 - val_loss: 0.4988 - val_accuracy: 0.7468 - 32ms/epoch - 6ms/step\n",
      "Epoch 103/150\n",
      "5/5 - 0s - loss: 0.0784 - accuracy: 0.9968 - val_loss: 0.4992 - val_accuracy: 0.7468 - 50ms/epoch - 10ms/step\n",
      "Epoch 104/150\n",
      "5/5 - 0s - loss: 0.0737 - accuracy: 1.0000 - val_loss: 0.4997 - val_accuracy: 0.7468 - 46ms/epoch - 9ms/step\n",
      "Epoch 105/150\n",
      "5/5 - 0s - loss: 0.0704 - accuracy: 0.9968 - val_loss: 0.5003 - val_accuracy: 0.7468 - 45ms/epoch - 9ms/step\n",
      "Epoch 106/150\n",
      "5/5 - 0s - loss: 0.0654 - accuracy: 1.0000 - val_loss: 0.5012 - val_accuracy: 0.7468 - 44ms/epoch - 9ms/step\n",
      "Epoch 107/150\n",
      "5/5 - 0s - loss: 0.0690 - accuracy: 1.0000 - val_loss: 0.5020 - val_accuracy: 0.7468 - 42ms/epoch - 8ms/step\n",
      "Epoch 108/150\n",
      "5/5 - 0s - loss: 0.0655 - accuracy: 1.0000 - val_loss: 0.5031 - val_accuracy: 0.7468 - 49ms/epoch - 10ms/step\n",
      "Epoch 109/150\n",
      "5/5 - 0s - loss: 0.0611 - accuracy: 0.9968 - val_loss: 0.5042 - val_accuracy: 0.7468 - 42ms/epoch - 8ms/step\n",
      "Epoch 110/150\n",
      "5/5 - 0s - loss: 0.0558 - accuracy: 1.0000 - val_loss: 0.5056 - val_accuracy: 0.7468 - 41ms/epoch - 8ms/step\n",
      "Epoch 111/150\n",
      "5/5 - 0s - loss: 0.0611 - accuracy: 1.0000 - val_loss: 0.5067 - val_accuracy: 0.7468 - 32ms/epoch - 6ms/step\n",
      "Epoch 112/150\n",
      "5/5 - 0s - loss: 0.0549 - accuracy: 1.0000 - val_loss: 0.5078 - val_accuracy: 0.7468 - 51ms/epoch - 10ms/step\n",
      "Epoch 113/150\n",
      "5/5 - 0s - loss: 0.0641 - accuracy: 0.9904 - val_loss: 0.5085 - val_accuracy: 0.7468 - 40ms/epoch - 8ms/step\n",
      "Epoch 114/150\n",
      "5/5 - 0s - loss: 0.0505 - accuracy: 1.0000 - val_loss: 0.5091 - val_accuracy: 0.7468 - 39ms/epoch - 8ms/step\n",
      "Epoch 115/150\n",
      "5/5 - 0s - loss: 0.0533 - accuracy: 1.0000 - val_loss: 0.5098 - val_accuracy: 0.7468 - 44ms/epoch - 9ms/step\n",
      "Epoch 116/150\n",
      "5/5 - 0s - loss: 0.0498 - accuracy: 1.0000 - val_loss: 0.5103 - val_accuracy: 0.7595 - 38ms/epoch - 8ms/step\n",
      "Epoch 117/150\n",
      "5/5 - 0s - loss: 0.0479 - accuracy: 1.0000 - val_loss: 0.5109 - val_accuracy: 0.7595 - 46ms/epoch - 9ms/step\n",
      "Epoch 118/150\n",
      "5/5 - 0s - loss: 0.0431 - accuracy: 1.0000 - val_loss: 0.5118 - val_accuracy: 0.7595 - 39ms/epoch - 8ms/step\n",
      "Epoch 119/150\n",
      "5/5 - 0s - loss: 0.0469 - accuracy: 0.9968 - val_loss: 0.5127 - val_accuracy: 0.7595 - 39ms/epoch - 8ms/step\n",
      "Epoch 120/150\n",
      "5/5 - 0s - loss: 0.0442 - accuracy: 0.9968 - val_loss: 0.5137 - val_accuracy: 0.7595 - 41ms/epoch - 8ms/step\n",
      "Epoch 121/150\n",
      "5/5 - 0s - loss: 0.0412 - accuracy: 1.0000 - val_loss: 0.5148 - val_accuracy: 0.7595 - 29ms/epoch - 6ms/step\n",
      "Epoch 122/150\n",
      "5/5 - 0s - loss: 0.0400 - accuracy: 1.0000 - val_loss: 0.5162 - val_accuracy: 0.7595 - 38ms/epoch - 8ms/step\n",
      "Epoch 123/150\n",
      "5/5 - 0s - loss: 0.0425 - accuracy: 1.0000 - val_loss: 0.5176 - val_accuracy: 0.7595 - 50ms/epoch - 10ms/step\n",
      "Epoch 124/150\n",
      "5/5 - 0s - loss: 0.0482 - accuracy: 0.9936 - val_loss: 0.5185 - val_accuracy: 0.7595 - 35ms/epoch - 7ms/step\n",
      "Epoch 125/150\n",
      "5/5 - 0s - loss: 0.0413 - accuracy: 0.9968 - val_loss: 0.5193 - val_accuracy: 0.7595 - 50ms/epoch - 10ms/step\n",
      "Epoch 126/150\n",
      "5/5 - 0s - loss: 0.0363 - accuracy: 1.0000 - val_loss: 0.5201 - val_accuracy: 0.7595 - 40ms/epoch - 8ms/step\n",
      "Epoch 127/150\n",
      "5/5 - 0s - loss: 0.0376 - accuracy: 0.9968 - val_loss: 0.5211 - val_accuracy: 0.7595 - 46ms/epoch - 9ms/step\n",
      "Epoch 128/150\n",
      "5/5 - 0s - loss: 0.0375 - accuracy: 1.0000 - val_loss: 0.5222 - val_accuracy: 0.7595 - 41ms/epoch - 8ms/step\n",
      "Epoch 129/150\n",
      "5/5 - 0s - loss: 0.0318 - accuracy: 1.0000 - val_loss: 0.5234 - val_accuracy: 0.7595 - 38ms/epoch - 8ms/step\n",
      "Epoch 130/150\n",
      "5/5 - 0s - loss: 0.0345 - accuracy: 1.0000 - val_loss: 0.5246 - val_accuracy: 0.7595 - 53ms/epoch - 11ms/step\n",
      "Epoch 131/150\n",
      "5/5 - 0s - loss: 0.0324 - accuracy: 1.0000 - val_loss: 0.5260 - val_accuracy: 0.7595 - 46ms/epoch - 9ms/step\n",
      "Epoch 132/150\n",
      "5/5 - 0s - loss: 0.0311 - accuracy: 1.0000 - val_loss: 0.5274 - val_accuracy: 0.7595 - 36ms/epoch - 7ms/step\n",
      "Epoch 133/150\n",
      "5/5 - 0s - loss: 0.0336 - accuracy: 0.9968 - val_loss: 0.5286 - val_accuracy: 0.7595 - 48ms/epoch - 10ms/step\n",
      "Epoch 134/150\n",
      "5/5 - 0s - loss: 0.0315 - accuracy: 1.0000 - val_loss: 0.5301 - val_accuracy: 0.7595 - 46ms/epoch - 9ms/step\n",
      "Epoch 135/150\n",
      "5/5 - 0s - loss: 0.0280 - accuracy: 1.0000 - val_loss: 0.5315 - val_accuracy: 0.7595 - 36ms/epoch - 7ms/step\n",
      "Epoch 136/150\n",
      "5/5 - 0s - loss: 0.0305 - accuracy: 1.0000 - val_loss: 0.5328 - val_accuracy: 0.7595 - 46ms/epoch - 9ms/step\n",
      "Epoch 137/150\n",
      "5/5 - 0s - loss: 0.0258 - accuracy: 1.0000 - val_loss: 0.5333 - val_accuracy: 0.7595 - 49ms/epoch - 10ms/step\n",
      "Epoch 138/150\n",
      "5/5 - 0s - loss: 0.0261 - accuracy: 1.0000 - val_loss: 0.5339 - val_accuracy: 0.7595 - 41ms/epoch - 8ms/step\n",
      "Epoch 139/150\n",
      "5/5 - 0s - loss: 0.0262 - accuracy: 1.0000 - val_loss: 0.5348 - val_accuracy: 0.7595 - 41ms/epoch - 8ms/step\n",
      "Epoch 140/150\n",
      "5/5 - 0s - loss: 0.0295 - accuracy: 0.9968 - val_loss: 0.5357 - val_accuracy: 0.7595 - 58ms/epoch - 12ms/step\n",
      "Epoch 141/150\n",
      "5/5 - 0s - loss: 0.0279 - accuracy: 1.0000 - val_loss: 0.5367 - val_accuracy: 0.7595 - 49ms/epoch - 10ms/step\n",
      "Epoch 142/150\n",
      "5/5 - 0s - loss: 0.0241 - accuracy: 1.0000 - val_loss: 0.5374 - val_accuracy: 0.7595 - 38ms/epoch - 8ms/step\n",
      "Epoch 143/150\n",
      "5/5 - 0s - loss: 0.0255 - accuracy: 1.0000 - val_loss: 0.5382 - val_accuracy: 0.7595 - 41ms/epoch - 8ms/step\n",
      "Epoch 144/150\n",
      "5/5 - 0s - loss: 0.0214 - accuracy: 1.0000 - val_loss: 0.5392 - val_accuracy: 0.7595 - 41ms/epoch - 8ms/step\n",
      "Epoch 145/150\n",
      "5/5 - 0s - loss: 0.0227 - accuracy: 1.0000 - val_loss: 0.5402 - val_accuracy: 0.7595 - 40ms/epoch - 8ms/step\n",
      "Epoch 146/150\n",
      "5/5 - 0s - loss: 0.0229 - accuracy: 1.0000 - val_loss: 0.5413 - val_accuracy: 0.7595 - 41ms/epoch - 8ms/step\n",
      "Epoch 147/150\n",
      "5/5 - 0s - loss: 0.0243 - accuracy: 0.9968 - val_loss: 0.5420 - val_accuracy: 0.7595 - 39ms/epoch - 8ms/step\n",
      "Epoch 148/150\n",
      "5/5 - 0s - loss: 0.0227 - accuracy: 1.0000 - val_loss: 0.5425 - val_accuracy: 0.7595 - 41ms/epoch - 8ms/step\n",
      "Epoch 149/150\n",
      "5/5 - 0s - loss: 0.0217 - accuracy: 1.0000 - val_loss: 0.5431 - val_accuracy: 0.7722 - 45ms/epoch - 9ms/step\n",
      "Epoch 150/150\n",
      "5/5 - 0s - loss: 0.0221 - accuracy: 1.0000 - val_loss: 0.5440 - val_accuracy: 0.7722 - 38ms/epoch - 8ms/step\n",
      "------------------------------------------------------------\n"
     ]
    }
   ],
   "source": [
    "# Train the model\n",
    "print(\"\\n--- Training ANN Model (Epochs=75, Batch Size=64, Verbose=2) ---\")\n",
    "history = model.fit(\n",
    "    X_train, y_train,\n",
    "    epochs=150,\n",
    "    batch_size=64,\n",
    "    verbose=2, # Verbose=2 prints one line per epoch\n",
    "    validation_data=(X_test, y_test)\n",
    ")\n",
    "print(\"-\" * 60)"
   ]
  },
  {
   "cell_type": "code",
   "execution_count": 42,
   "id": "77ab9fcf",
   "metadata": {},
   "outputs": [
    {
     "name": "stdout",
     "output_type": "stream",
     "text": [
      "\n",
      "ANN Final Test Loss: 0.5440\n",
      "ANN Final Test Accuracy: 0.7722\n",
      "------------------------------------------------------------\n"
     ]
    }
   ],
   "source": [
    "\n",
    "# Evaluate the model\n",
    "loss, accuracy = model.evaluate(X_test, y_test, verbose=0)\n",
    "print(f\"\\nANN Final Test Loss: {loss:.4f}\")\n",
    "print(f\"ANN Final Test Accuracy: {accuracy:.4f}\")\n",
    "print(\"-\" * 60)"
   ]
  },
  {
   "cell_type": "code",
   "execution_count": 43,
   "id": "a0605ea1",
   "metadata": {},
   "outputs": [
    {
     "name": "stdout",
     "output_type": "stream",
     "text": [
      "\n",
      "--- Training Accuracy Plot (Generated Image of Training Accuracy and Validation) ---\n"
     ]
    },
    {
     "data": {
      "image/png": "[encoded data removed]",
      "text/plain": [
       "<Figure size 1000x600 with 1 Axes>"
      ]
     },
     "metadata": {},
     "output_type": "display_data"
    }
   ],
   "source": [
    "# Plot training accuracy\n",
    "print(\"\\n--- Training Accuracy Plot (Generated Image of Training Accuracy and Validation) ---\")\n",
    "plt.figure(figsize=(10, 6))\n",
    "plt.plot(history.history['accuracy'], label='Train Accuracy')\n",
    "plt.plot(history.history['val_accuracy'], label='Validation Accuracy')\n",
    "plt.title('Model Training Accuracy Over Epochs')\n",
    "plt.ylabel('Accuracy')\n",
    "plt.xlabel('Epoch')\n",
    "plt.legend()\n",
    "plt.grid(True)\n",
    "plt.style.use('ggplot')"
   ]
  },
  {
   "cell_type": "markdown",
   "id": "fcb47870",
   "metadata": {},
   "source": [
    "Test the model"
   ]
  },
  {
   "cell_type": "code",
   "execution_count": 44,
   "id": "768a3806",
   "metadata": {},
   "outputs": [],
   "source": [
    "# --- 7. Test the model with example sentences ---\n",
    "example_sentences = [\n",
    "    \"The world is a stage, a stage where every man must play a part.\",\n",
    "    \"Brave as a lion, he faced the fierce dragon.\",\n",
    "    \"Poverty is the greatest enemy of human happiness.\",\n",
    "    \"He runs like the wind, always finishing first in the race.\"\n",
    "]"
   ]
  },
  {
   "cell_type": "code",
   "execution_count": 45,
   "id": "872686c6",
   "metadata": {},
   "outputs": [
    {
     "name": "stdout",
     "output_type": "stream",
     "text": [
      "\n",
      "--- Testing Model with New Example Sentences ---\n"
     ]
    }
   ],
   "source": [
    "print(\"\\n--- Testing Model with New Example Sentences ---\")\n",
    "# Vectorize new sentences using the *fitted* TF-IDF\n",
    "X_new = tfidf.transform(example_sentences).toarray()"
   ]
  },
  {
   "cell_type": "code",
   "execution_count": 46,
   "id": "569c5bba",
   "metadata": {},
   "outputs": [
    {
     "name": "stdout",
     "output_type": "stream",
     "text": [
      "\n",
      "Sentence: 'The world is a stage, a stage where every man must play a part.'\n",
      "  Predicted Class: Simile\n",
      "  Probability of Simile: 0.9280\n",
      "  Probability of Metaphor: 0.0720\n",
      "\n",
      "Sentence: 'Brave as a lion, he faced the fierce dragon.'\n",
      "  Predicted Class: Simile\n",
      "  Probability of Simile: 0.9864\n",
      "  Probability of Metaphor: 0.0136\n",
      "\n",
      "Sentence: 'Poverty is the greatest enemy of human happiness.'\n",
      "  Predicted Class: Metaphor\n",
      "  Probability of Simile: 0.4836\n",
      "  Probability of Metaphor: 0.5164\n",
      "\n",
      "Sentence: 'He runs like the wind, always finishing first in the race.'\n",
      "  Predicted Class: Simile\n",
      "  Probability of Simile: 0.9782\n",
      "  Probability of Metaphor: 0.0218\n",
      "------------------------------------------------------------\n"
     ]
    }
   ],
   "source": [
    "# Get predictions (probabilities)\n",
    "probabilities = model.predict(X_new, verbose=0)\n",
    "\n",
    "# Display probability of Simile (Target=1) and Metaphor (Target=0)\n",
    "for sentence, prob in zip(example_sentences, probabilities):\n",
    "    # prob[0] is the probability of the positive class (Simile, or 1)\n",
    "    prob_simile = prob[0]\n",
    "    prob_metaphor = 1 - prob_simile\n",
    "\n",
    "    # Determine predicted class based on a 0.5 threshold\n",
    "    predicted_class_index = 1 if prob_simile >= 0.5 else 0\n",
    "    predicted_class = target_names[predicted_class_index]\n",
    "\n",
    "    print(f\"\\nSentence: '{sentence}'\")\n",
    "    print(f\"  Predicted Class: {predicted_class}\")\n",
    "    print(f\"  Probability of Simile: {prob_simile:.4f}\")\n",
    "    print(f\"  Probability of Metaphor: {prob_metaphor:.4f}\")\n",
    "\n",
    "print(\"-\" * 60)"
   ]
  },
  {
   "cell_type": "code",
   "execution_count": 47,
   "id": "8be21e66",
   "metadata": {},
   "outputs": [
    {
     "name": "stdout",
     "output_type": "stream",
     "text": [
      "\n",
      "ANN model successfully saved to: simile_metaphor_classifier_ann.keras\n"
     ]
    }
   ],
   "source": [
    "# --- 8. Save the model ---\n",
    "model_filename = 'simile_metaphor_classifier_ann.keras'\n",
    "# Keras recommends saving models in the .keras format\n",
    "model.save(model_filename)\n",
    "print(f\"\\nANN model successfully saved to: {model_filename}\")"
   ]
  },
  {
   "cell_type": "code",
   "execution_count": 49,
   "id": "c79480d7",
   "metadata": {},
   "outputs": [
    {
     "name": "stdout",
     "output_type": "stream",
     "text": [
      "Actual feature dimension: 480\n"
     ]
    }
   ],
   "source": [
    "import joblib\n",
    "\n",
    "# Save model\n",
    "model.save('simile_metaphor_classifier_ann.keras')\n",
    "\n",
    "# Save vectorizer\n",
    "joblib.dump(tfidf, 'tfidf_vectorizer.pkl')\n",
    "\n",
    "# Save the real input dimension (for verification)\n",
    "print(\"Actual feature dimension:\", len(tfidf.vocabulary_))\n"
   ]
  }
 ],
 "metadata": {
  "kernelspec": {
   "display_name": "Python 3",
   "language": "python",
   "name": "python3"
  },
  "language_info": {
   "codemirror_mode": {
    "name": "ipython",
    "version": 3
   },
   "file_extension": ".py",
   "mimetype": "text/x-python",
   "name": "python",
   "nbconvert_exporter": "python",
   "pygments_lexer": "ipython3",
   "version": "3.11.4"
  }
 },
 "nbformat": 4,
 "nbformat_minor": 5
}
